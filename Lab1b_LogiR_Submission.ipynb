{
  "nbformat": 4,
  "nbformat_minor": 0,
  "metadata": {
    "colab": {
      "name": "Lab1b-LogiR-Submission.ipynb",
      "provenance": [],
      "collapsed_sections": []
    },
    "kernelspec": {
      "name": "python3",
      "display_name": "Python 3"
    }
  },
  "cells": [
    {
      "cell_type": "code",
      "metadata": {
        "id": "E2FNuTJPAF13"
      },
      "source": [
        "from sklearn.datasets import load_iris\r\n",
        "load_iris = load_iris()"
      ],
      "execution_count": 11,
      "outputs": []
    },
    {
      "cell_type": "code",
      "metadata": {
        "colab": {
          "base_uri": "https://localhost:8080/"
        },
        "id": "Tw6Pp02rMWow",
        "outputId": "a651b38f-c763-46fe-df7e-3d75ea138cca"
      },
      "source": [
        "load_iris.data.shape"
      ],
      "execution_count": 12,
      "outputs": [
        {
          "output_type": "execute_result",
          "data": {
            "text/plain": [
              "(150, 4)"
            ]
          },
          "metadata": {
            "tags": []
          },
          "execution_count": 12
        }
      ]
    },
    {
      "cell_type": "code",
      "metadata": {
        "colab": {
          "base_uri": "https://localhost:8080/"
        },
        "id": "ETNsvB_kRVDR",
        "outputId": "c284d730-c909-4704-e3e8-590c6d1de61f"
      },
      "source": [
        "X=load_iris.data\r\n",
        "y=load_iris.target\r\n",
        "\r\n",
        "print('Data fields data set:')\r\n",
        "print(load_iris.feature_names)\r\n",
        "\r\n",
        "print('\\nClassification outcomes:')\r\n",
        "print(load_iris.target_names)"
      ],
      "execution_count": 13,
      "outputs": [
        {
          "output_type": "stream",
          "text": [
            "Data fields data set:\n",
            "['sepal length (cm)', 'sepal width (cm)', 'petal length (cm)', 'petal width (cm)']\n",
            "\n",
            "Classification outcomes:\n",
            "['setosa' 'versicolor' 'virginica']\n"
          ],
          "name": "stdout"
        }
      ]
    },
    {
      "cell_type": "code",
      "metadata": {
        "colab": {
          "base_uri": "https://localhost:8080/",
          "height": 308
        },
        "id": "sFCid4fy0qHC",
        "outputId": "557e2b5f-8bab-4f23-d433-838bed208c5a"
      },
      "source": [
        "import numpy as np \r\n",
        "import matplotlib.pyplot as plt\r\n",
        "plt.figure(figsize=(20,4))\r\n",
        "for index, (image, label) in enumerate(zip(load_iris.data[0:5], load_iris.target[0:4])):\r\n",
        " plt.subplot(1, 4, index + 1)\r\n",
        " plt.imshow(np.reshape(image, (2,2)), cmap=plt.cm.gray)\r\n",
        " plt.title('Training: %i\\n' % label, fontsize = 20)"
      ],
      "execution_count": 19,
      "outputs": [
        {
          "output_type": "display_data",
          "data": {
            "image/png": "[encoded data removed]",
            "text/plain": [
              "<Figure size 1440x288 with 4 Axes>"
            ]
          },
          "metadata": {
            "tags": [],
            "needs_background": "light"
          }
        }
      ]
    },
    {
      "cell_type": "code",
      "metadata": {
        "id": "cYkBfo0uRgpB"
      },
      "source": [
        "from sklearn.model_selection import train_test_split\r\n",
        "X_train, X_test, y_train, y_test = train_test_split(X, y, test_size=0.25, random_state=0)"
      ],
      "execution_count": 20,
      "outputs": []
    },
    {
      "cell_type": "code",
      "metadata": {
        "colab": {
          "base_uri": "https://localhost:8080/"
        },
        "id": "SoFKfRFnSSjD",
        "outputId": "872a8e18-71a7-424b-d94b-ddf28443f4d6"
      },
      "source": [
        "from sklearn.linear_model import LogisticRegression\r\n",
        "lr = LogisticRegression(C=100, random_state=0)\r\n",
        "lr.fit(X_train, y_train)"
      ],
      "execution_count": 21,
      "outputs": [
        {
          "output_type": "stream",
          "text": [
            "/usr/local/lib/python3.7/dist-packages/sklearn/linear_model/_logistic.py:940: ConvergenceWarning: lbfgs failed to converge (status=1):\n",
            "STOP: TOTAL NO. of ITERATIONS REACHED LIMIT.\n",
            "\n",
            "Increase the number of iterations (max_iter) or scale the data as shown in:\n",
            "    https://scikit-learn.org/stable/modules/preprocessing.html\n",
            "Please also refer to the documentation for alternative solver options:\n",
            "    https://scikit-learn.org/stable/modules/linear_model.html#logistic-regression\n",
            "  extra_warning_msg=_LOGISTIC_SOLVER_CONVERGENCE_MSG)\n"
          ],
          "name": "stderr"
        },
        {
          "output_type": "execute_result",
          "data": {
            "text/plain": [
              "LogisticRegression(C=100, class_weight=None, dual=False, fit_intercept=True,\n",
              "                   intercept_scaling=1, l1_ratio=None, max_iter=100,\n",
              "                   multi_class='auto', n_jobs=None, penalty='l2',\n",
              "                   random_state=0, solver='lbfgs', tol=0.0001, verbose=0,\n",
              "                   warm_start=False)"
            ]
          },
          "metadata": {
            "tags": []
          },
          "execution_count": 21
        }
      ]
    },
    {
      "cell_type": "code",
      "metadata": {
        "colab": {
          "base_uri": "https://localhost:8080/"
        },
        "id": "virk4WhXXVsD",
        "outputId": "6955ce25-b384-4311-9f0d-8f42c62b35cf"
      },
      "source": [
        "lr.predict(X_test[:])"
      ],
      "execution_count": 22,
      "outputs": [
        {
          "output_type": "execute_result",
          "data": {
            "text/plain": [
              "array([2, 1, 0, 2, 0, 2, 0, 1, 1, 1, 2, 1, 1, 1, 1, 0, 1, 1, 0, 0, 2, 1,\n",
              "       0, 0, 2, 0, 0, 1, 1, 0, 2, 1, 0, 2, 2, 1, 0, 2])"
            ]
          },
          "metadata": {
            "tags": []
          },
          "execution_count": 22
        }
      ]
    },
    {
      "cell_type": "code",
      "metadata": {
        "id": "-ohhGMiPXhPp"
      },
      "source": [
        "y_prediction = lr.predict(X_test)"
      ],
      "execution_count": 23,
      "outputs": []
    },
    {
      "cell_type": "code",
      "metadata": {
        "colab": {
          "base_uri": "https://localhost:8080/"
        },
        "id": "e2W4FPS5SYRS",
        "outputId": "addf5363-fd0d-4036-906d-3a87eb8dcc66"
      },
      "source": [
        "correct = (y_test == y_prediction).sum()\r\n",
        "incorrect = (y_test != y_prediction).sum()\r\n",
        "accuracy = correct / (correct + incorrect) * 100\r\n",
        "\r\n",
        "print('\\nPercent Accuracy: %0.1f' %accuracy)"
      ],
      "execution_count": 24,
      "outputs": [
        {
          "output_type": "stream",
          "text": [
            "\n",
            "Percent Accuracy: 97.4\n"
          ],
          "name": "stdout"
        }
      ]
    },
    {
      "cell_type": "code",
      "metadata": {
        "colab": {
          "base_uri": "https://localhost:8080/"
        },
        "id": "SCrZ5jV4ScYu",
        "outputId": "245fca97-fc65-41f7-8868-6adc30e604ef"
      },
      "source": [
        "import pandas as pd\r\n",
        "prediction = pd.DataFrame()\r\n",
        "prediction['actual'] = load_iris.target_names[y_test]\r\n",
        "prediction['predicted'] = load_iris.target_names[y_prediction]\r\n",
        "prediction['correct'] = prediction['actual'] == prediction['predicted']\r\n",
        "\r\n",
        "print('\\nDetailed results for first 20 tests:')\r\n",
        "print(prediction.head(20))\r\n",
        "\r\n",
        "df_new = prediction[prediction['correct'] == False]\r\n",
        "\r\n",
        "print(df_new)"
      ],
      "execution_count": 26,
      "outputs": [
        {
          "output_type": "stream",
          "text": [
            "\n",
            "Detailed results for first 20 tests:\n",
            "        actual   predicted  correct\n",
            "0    virginica   virginica     True\n",
            "1   versicolor  versicolor     True\n",
            "2       setosa      setosa     True\n",
            "3    virginica   virginica     True\n",
            "4       setosa      setosa     True\n",
            "5    virginica   virginica     True\n",
            "6       setosa      setosa     True\n",
            "7   versicolor  versicolor     True\n",
            "8   versicolor  versicolor     True\n",
            "9   versicolor  versicolor     True\n",
            "10   virginica   virginica     True\n",
            "11  versicolor  versicolor     True\n",
            "12  versicolor  versicolor     True\n",
            "13  versicolor  versicolor     True\n",
            "14  versicolor  versicolor     True\n",
            "15      setosa      setosa     True\n",
            "16  versicolor  versicolor     True\n",
            "17  versicolor  versicolor     True\n",
            "18      setosa      setosa     True\n",
            "19      setosa      setosa     True\n",
            "        actual  predicted  correct\n",
            "37  versicolor  virginica    False\n"
          ],
          "name": "stdout"
        }
      ]
    },
    {
      "cell_type": "code",
      "metadata": {
        "colab": {
          "base_uri": "https://localhost:8080/"
        },
        "id": "U8s_N1mPaqC5",
        "outputId": "667e2abc-2283-4301-f9bb-b0935b93ba32"
      },
      "source": [
        "df_new.shape"
      ],
      "execution_count": 27,
      "outputs": [
        {
          "output_type": "execute_result",
          "data": {
            "text/plain": [
              "(1, 3)"
            ]
          },
          "metadata": {
            "tags": []
          },
          "execution_count": 27
        }
      ]
    },
    {
      "cell_type": "code",
      "metadata": {
        "colab": {
          "base_uri": "https://localhost:8080/"
        },
        "id": "WnPF9SIRUliO",
        "outputId": "73f548f1-bf1a-4910-daeb-8d86ff5c3550"
      },
      "source": [
        "score = lr.score(X_test, y_test)\r\n",
        "print(score)"
      ],
      "execution_count": 28,
      "outputs": [
        {
          "output_type": "stream",
          "text": [
            "0.9736842105263158\n"
          ],
          "name": "stdout"
        }
      ]
    },
    {
      "cell_type": "code",
      "metadata": {
        "id": "GQTPpLmTVce_"
      },
      "source": [
        "import matplotlib.pyplot as plt\r\n",
        "import seaborn as sns\r\n",
        "from sklearn import metrics"
      ],
      "execution_count": 29,
      "outputs": []
    },
    {
      "cell_type": "code",
      "metadata": {
        "colab": {
          "base_uri": "https://localhost:8080/"
        },
        "id": "0dSHVAqYVgMe",
        "outputId": "6efa0bb6-f9b8-44f2-8fc1-45c7e57f172d"
      },
      "source": [
        "cm = metrics.confusion_matrix(y_test, y_prediction)\r\n",
        "print(cm)"
      ],
      "execution_count": 30,
      "outputs": [
        {
          "output_type": "stream",
          "text": [
            "[[13  0  0]\n",
            " [ 0 15  1]\n",
            " [ 0  0  9]]\n"
          ],
          "name": "stdout"
        }
      ]
    },
    {
      "cell_type": "code",
      "metadata": {
        "colab": {
          "base_uri": "https://localhost:8080/",
          "height": 526
        },
        "id": "0HzlNJb1WVnH",
        "outputId": "13df8827-4b4e-4896-cf50-ea502e0ed357"
      },
      "source": [
        "plt.figure(figsize=(9,9))\r\n",
        "sns.heatmap(cm, annot=True, fmt=\".3f\", linewidths=.5, square = True, cmap = 'Blues_r');\r\n",
        "plt.ylabel('Actual label');\r\n",
        "plt.xlabel('Predicted label');\r\n",
        "all_sample_title = 'Accuracy Score: {0}'.format(score)\r\n",
        "plt.title(all_sample_title, size = 15);"
      ],
      "execution_count": 31,
      "outputs": [
        {
          "output_type": "display_data",
          "data": {
            "image/png": "[encoded data removed]",
            "text/plain": [
              "<Figure size 648x648 with 2 Axes>"
            ]
          },
          "metadata": {
            "tags": [],
            "needs_background": "light"
          }
        }
      ]
    },
    {
      "cell_type": "code",
      "metadata": {
        "id": "HaW_xVYwbUBn"
      },
      "source": [
        ""
      ],
      "execution_count": null,
      "outputs": []
    }
  ]
}